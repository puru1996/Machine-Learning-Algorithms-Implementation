{
 "cells": [
  {
   "cell_type": "markdown",
   "id": "a73ef04a",
   "metadata": {},
   "source": [
    "# TASK 1"
   ]
  },
  {
   "cell_type": "markdown",
   "id": "89bde3b2",
   "metadata": {},
   "source": [
    "### Importing the required libraries"
   ]
  },
  {
   "cell_type": "code",
   "execution_count": 1,
   "id": "6bcc1cbf",
   "metadata": {},
   "outputs": [],
   "source": [
    "#Importing the required Libraries \n",
    "import pandas as pd \n",
    "import numpy as np "
   ]
  },
  {
   "cell_type": "markdown",
   "id": "4c3e96b8",
   "metadata": {},
   "source": [
    "### Importing the test dataset"
   ]
  },
  {
   "cell_type": "code",
   "execution_count": 2,
   "id": "53db13cf",
   "metadata": {},
   "outputs": [],
   "source": [
    "df1 = pd.read_csv(\"UMD_TEST.txt\", delimiter = '\\s+', header = None)"
   ]
  },
  {
   "cell_type": "code",
   "execution_count": 3,
   "id": "69973e65",
   "metadata": {},
   "outputs": [],
   "source": [
    "y = df1.iloc[:  , 0]\n",
    "X = df1.iloc[: , 1:]"
   ]
  },
  {
   "cell_type": "markdown",
   "id": "fee2eae0",
   "metadata": {},
   "source": [
    "### Splitting up the dataset into test and train with train_size = 75% and test_size = 25%"
   ]
  },
  {
   "cell_type": "code",
   "execution_count": 4,
   "id": "1ce16528",
   "metadata": {},
   "outputs": [],
   "source": [
    "from sklearn.model_selection import train_test_split\n",
    "X_train, X_test, y_train, y_test = train_test_split(X, y, train_size=0.75)"
   ]
  },
  {
   "cell_type": "code",
   "execution_count": 5,
   "id": "7094ca3c",
   "metadata": {},
   "outputs": [],
   "source": [
    "#Doing some extra preprocessing of removing the randomly arrranged indexes from test_train split function in order to get the \n",
    "#Accurate results\n",
    "X_train = X_train.reset_index()\n",
    "X_test = X_test.reset_index()\n",
    "y_train = y_train.reset_index()\n",
    "y_test = y_test.reset_index()"
   ]
  },
  {
   "cell_type": "code",
   "execution_count": 6,
   "id": "b9b1342f",
   "metadata": {},
   "outputs": [],
   "source": [
    "#Dropping out the randomly arranged indexes generated from the train_test_split method\n",
    "X_train.drop(columns = ['index'], inplace = True, axis =1 )\n",
    "y_train.drop(columns = ['index'], inplace = True, axis =1 )\n",
    "X_test.drop(columns = ['index'], inplace = True, axis =1 )\n",
    "y_test.drop(columns = ['index'], inplace = True, axis =1 )"
   ]
  },
  {
   "cell_type": "markdown",
   "id": "113b8908",
   "metadata": {},
   "source": [
    "### Converting the datasets into the Numpy arrays so that they can be processed by the DTW Distance calculation function"
   ]
  },
  {
   "cell_type": "code",
   "execution_count": 7,
   "id": "d0f1e995",
   "metadata": {},
   "outputs": [],
   "source": [
    "X_arr = X_train.to_numpy()\n",
    "X_test_arr = X_test.to_numpy()"
   ]
  },
  {
   "cell_type": "markdown",
   "id": "aa4d7366",
   "metadata": {},
   "source": [
    "### DTW Function for calculating the distance"
   ]
  },
  {
   "cell_type": "code",
   "execution_count": 8,
   "id": "43c73867",
   "metadata": {},
   "outputs": [],
   "source": [
    "def dtw(s, t, window):\n",
    "    n, m = len(s), len(t)\n",
    "    w = np.max([window, abs(n-m)]) # warping cannot be less than the difference in lengths. \n",
    "    dtw_matrix = np.zeros((n+1, m+1))\n",
    "    \n",
    "    for i in range(n+1):\n",
    "        for j in range(m+1):\n",
    "            dtw_matrix[i, j] = np.inf\n",
    "    dtw_matrix[0, 0] = 0\n",
    "    \n",
    "    for i in range(1, n+1):\n",
    "        for j in range(np.max([1, i-w]), np.min([m, i+w])+1):\n",
    "            dtw_matrix[i, j] = 0\n",
    "    \n",
    "    for i in range(1, n+1):\n",
    "        for j in range(np.max([1, i-w]), np.min([m, i+w])+1):\n",
    "            cost = abs(s[i-1] - t[j-1])\n",
    "            # take last min from a square box\n",
    "            last_min = np.min([dtw_matrix[i-1, j], dtw_matrix[i, j-1], dtw_matrix[i-1, j-1]])\n",
    "            dtw_matrix[i, j] = cost + last_min\n",
    "    return dtw_matrix[-1,-1]"
   ]
  },
  {
   "cell_type": "code",
   "execution_count": 9,
   "id": "39f31abe",
   "metadata": {},
   "outputs": [],
   "source": [
    "# One extra function defined for the Inverse dictionary mapping\n",
    "def fetch_keys(dict_1, value):\n",
    "    return [key for key, val in dict_1.items() if val == value]"
   ]
  },
  {
   "cell_type": "markdown",
   "id": "1449b26d",
   "metadata": {},
   "source": [
    "# Code for Implementation of the Simple 1-NN Classifier using the DTW function for Distance calculation\n",
    "### Steps involved in the code are as below\n",
    "#### 1. First used nested for loop in order to calculate the distance of each time-series element in X_test with each of the time-series element in X_train\n",
    "#### 2. For each item in X_test,  I stored the index of the element for X_train  which is having the lowest distance with that X_test element\n",
    "#### 3. Finally using inverse mapping of the dictionary fetched the Class value for that index of the X_train element from the y_train dataframe\n",
    "#### 4. Calculated the Accuracy for the step by comparing the Actual values in y_test to that of the predicted values through this method.\n",
    "\n",
    "### NOTE. - I used the While loop for 20 Counts in order to check which window has the best accuracy for  this DTW Model which basically helped to calculate the Accuracy for each window size from 1 - 20 , Which will enable me to check the accuracy trend with the window size for the DTW Model and help me to choose the best Window size in terms of accuracy"
   ]
  },
  {
   "cell_type": "code",
   "execution_count": 10,
   "id": "95b5f110",
   "metadata": {},
   "outputs": [
    {
     "name": "stdout",
     "output_type": "stream",
     "text": [
      "Accuracy for Window size 20 is -- 94.44444444444444\n",
      "Accuracy for Window size 19 is -- 94.44444444444444\n",
      "Accuracy for Window size 18 is -- 94.44444444444444\n",
      "Accuracy for Window size 17 is -- 94.44444444444444\n",
      "Accuracy for Window size 16 is -- 94.44444444444444\n",
      "Accuracy for Window size 15 is -- 94.44444444444444\n",
      "Accuracy for Window size 14 is -- 94.44444444444444\n",
      "Accuracy for Window size 13 is -- 94.44444444444444\n",
      "Accuracy for Window size 12 is -- 94.44444444444444\n",
      "Accuracy for Window size 11 is -- 94.44444444444444\n",
      "Accuracy for Window size 10 is -- 94.44444444444444\n",
      "Accuracy for Window size 9 is -- 94.44444444444444\n",
      "Accuracy for Window size 8 is -- 94.44444444444444\n",
      "Accuracy for Window size 7 is -- 94.44444444444444\n",
      "Accuracy for Window size 6 is -- 97.22222222222221\n",
      "Accuracy for Window size 5 is -- 97.22222222222221\n",
      "Accuracy for Window size 4 is -- 94.44444444444444\n",
      "Accuracy for Window size 3 is -- 91.66666666666666\n",
      "Accuracy for Window size 2 is -- 91.66666666666666\n",
      "Accuracy for Window size 1 is -- 91.66666666666666\n"
     ]
    }
   ],
   "source": [
    "# This is the code being Implemented in order for the DTW Code to be implemented\n",
    "count_1 = 20\n",
    "accuracy ={}\n",
    "while count_1 >0:\n",
    "    final = []\n",
    "    #This piece of code was to get the predicted indexes for the y_train which has the least distance with the X_train data\n",
    "    for i in range(0, len(X_test_arr)):\n",
    "        a= {}\n",
    "        for j in range(0, len(X_arr)):\n",
    "            a[j] = dtw(X_test_arr[i], X_arr[j], count_1)\n",
    "        final.append(fetch_keys(a, sorted(a.values())[0])[0])  \n",
    "\n",
    "    #This piece of code was to get the predicted values by maping those already got indexes from the previous step to the actual\n",
    "    #class of y_train\n",
    "\n",
    "\n",
    "    final_1 = []\n",
    "    for i in range(0,len(final)):\n",
    "        final_1.append(y_train[0][final[i]])\n",
    "    df3 = pd.DataFrame (final_1, columns = ['Predicted'])\n",
    "\n",
    "\n",
    "    #This piece of code was to predict the accuracy of the code based on the predicted and the actual values\n",
    "    count = 0\n",
    "    for i in range(0,len(df3)):\n",
    "        if df3.iloc[i][0] == y_test[0][i]:\n",
    "            count = count+1\n",
    "\n",
    "    #This piece of code is for storing the accuracy for each window size in a dictionary named accuracy\n",
    "    accuracy[count_1]  = float ((count/len(df3))*100)\n",
    "    print('Accuracy for Window size', count_1, 'is --'  , accuracy[count_1])\n",
    "    count_1 = count_1 -1 "
   ]
  },
  {
   "cell_type": "code",
   "execution_count": 11,
   "id": "8fc3848b",
   "metadata": {},
   "outputs": [],
   "source": [
    "df4 = pd.DataFrame.from_dict(accuracy , orient = 'index')\n",
    "df4 = df4.reset_index()\n",
    "df4.rename(columns = {0:'Accuracy'}, inplace = True)\n",
    "df4.rename(columns = {'index':'Window'}, inplace = True)"
   ]
  },
  {
   "cell_type": "code",
   "execution_count": 12,
   "id": "4ed349dc",
   "metadata": {},
   "outputs": [
    {
     "data": {
      "text/html": [
       "<div>\n",
       "<style scoped>\n",
       "    .dataframe tbody tr th:only-of-type {\n",
       "        vertical-align: middle;\n",
       "    }\n",
       "\n",
       "    .dataframe tbody tr th {\n",
       "        vertical-align: top;\n",
       "    }\n",
       "\n",
       "    .dataframe thead th {\n",
       "        text-align: right;\n",
       "    }\n",
       "</style>\n",
       "<table border=\"1\" class=\"dataframe\">\n",
       "  <thead>\n",
       "    <tr style=\"text-align: right;\">\n",
       "      <th></th>\n",
       "      <th>Window</th>\n",
       "      <th>Accuracy</th>\n",
       "    </tr>\n",
       "  </thead>\n",
       "  <tbody>\n",
       "    <tr>\n",
       "      <th>0</th>\n",
       "      <td>20</td>\n",
       "      <td>94.444444</td>\n",
       "    </tr>\n",
       "    <tr>\n",
       "      <th>1</th>\n",
       "      <td>19</td>\n",
       "      <td>94.444444</td>\n",
       "    </tr>\n",
       "    <tr>\n",
       "      <th>2</th>\n",
       "      <td>18</td>\n",
       "      <td>94.444444</td>\n",
       "    </tr>\n",
       "    <tr>\n",
       "      <th>3</th>\n",
       "      <td>17</td>\n",
       "      <td>94.444444</td>\n",
       "    </tr>\n",
       "    <tr>\n",
       "      <th>4</th>\n",
       "      <td>16</td>\n",
       "      <td>94.444444</td>\n",
       "    </tr>\n",
       "    <tr>\n",
       "      <th>5</th>\n",
       "      <td>15</td>\n",
       "      <td>94.444444</td>\n",
       "    </tr>\n",
       "    <tr>\n",
       "      <th>6</th>\n",
       "      <td>14</td>\n",
       "      <td>94.444444</td>\n",
       "    </tr>\n",
       "    <tr>\n",
       "      <th>7</th>\n",
       "      <td>13</td>\n",
       "      <td>94.444444</td>\n",
       "    </tr>\n",
       "    <tr>\n",
       "      <th>8</th>\n",
       "      <td>12</td>\n",
       "      <td>94.444444</td>\n",
       "    </tr>\n",
       "    <tr>\n",
       "      <th>9</th>\n",
       "      <td>11</td>\n",
       "      <td>94.444444</td>\n",
       "    </tr>\n",
       "    <tr>\n",
       "      <th>10</th>\n",
       "      <td>10</td>\n",
       "      <td>94.444444</td>\n",
       "    </tr>\n",
       "    <tr>\n",
       "      <th>11</th>\n",
       "      <td>9</td>\n",
       "      <td>94.444444</td>\n",
       "    </tr>\n",
       "    <tr>\n",
       "      <th>12</th>\n",
       "      <td>8</td>\n",
       "      <td>94.444444</td>\n",
       "    </tr>\n",
       "    <tr>\n",
       "      <th>13</th>\n",
       "      <td>7</td>\n",
       "      <td>94.444444</td>\n",
       "    </tr>\n",
       "    <tr>\n",
       "      <th>14</th>\n",
       "      <td>6</td>\n",
       "      <td>97.222222</td>\n",
       "    </tr>\n",
       "    <tr>\n",
       "      <th>15</th>\n",
       "      <td>5</td>\n",
       "      <td>97.222222</td>\n",
       "    </tr>\n",
       "    <tr>\n",
       "      <th>16</th>\n",
       "      <td>4</td>\n",
       "      <td>94.444444</td>\n",
       "    </tr>\n",
       "    <tr>\n",
       "      <th>17</th>\n",
       "      <td>3</td>\n",
       "      <td>91.666667</td>\n",
       "    </tr>\n",
       "    <tr>\n",
       "      <th>18</th>\n",
       "      <td>2</td>\n",
       "      <td>91.666667</td>\n",
       "    </tr>\n",
       "    <tr>\n",
       "      <th>19</th>\n",
       "      <td>1</td>\n",
       "      <td>91.666667</td>\n",
       "    </tr>\n",
       "  </tbody>\n",
       "</table>\n",
       "</div>"
      ],
      "text/plain": [
       "    Window   Accuracy\n",
       "0       20  94.444444\n",
       "1       19  94.444444\n",
       "2       18  94.444444\n",
       "3       17  94.444444\n",
       "4       16  94.444444\n",
       "5       15  94.444444\n",
       "6       14  94.444444\n",
       "7       13  94.444444\n",
       "8       12  94.444444\n",
       "9       11  94.444444\n",
       "10      10  94.444444\n",
       "11       9  94.444444\n",
       "12       8  94.444444\n",
       "13       7  94.444444\n",
       "14       6  97.222222\n",
       "15       5  97.222222\n",
       "16       4  94.444444\n",
       "17       3  91.666667\n",
       "18       2  91.666667\n",
       "19       1  91.666667"
      ]
     },
     "execution_count": 12,
     "metadata": {},
     "output_type": "execute_result"
    }
   ],
   "source": [
    "#This is the dataframe containing the Accuracy scores vs the Window Size\n",
    "df4"
   ]
  },
  {
   "cell_type": "markdown",
   "id": "13db7ab4",
   "metadata": {},
   "source": [
    "### Plotting the Window Size vs Accuracy of the Classifier Score in order to determined the best Window Size"
   ]
  },
  {
   "cell_type": "code",
   "execution_count": 45,
   "id": "d5aa419e",
   "metadata": {},
   "outputs": [
    {
     "data": {
      "image/png": "[encoded data removed]",
      "text/plain": [
       "<Figure size 432x288 with 1 Axes>"
      ]
     },
     "metadata": {
      "needs_background": "light"
     },
     "output_type": "display_data"
    }
   ],
   "source": [
    "import matplotlib.pyplot as plt\n",
    "plt.plot(df4['Window'], df4['Accuracy'])\n",
    "plt.xlabel('Window Size')\n",
    "plt.ylabel('Accuracy')\n",
    "plt.show()"
   ]
  },
  {
   "cell_type": "markdown",
   "id": "fb9e0d0f",
   "metadata": {},
   "source": [
    "### After Checking the model we can see that the Accuracy for the model peaked at 97.2 % at window size of 5 and 6, and then started dropping out, So in terms of accuracy we can say that the window size 5 and 6 are the best window sizes when it comes to accuracy \n",
    "\n",
    "### However, for the DTW implementation of the KNN Model, The computation time increases with each increasing Window size, as the CPU needs to do more iterations of computations in order to compute the best neighbor with each increasing window size.\n",
    "\n",
    "### Hence if we look at the model with the perspective of both the Accuracy and the computation cost we can say that the window size 5 is the most optimum window size for the DTW Model Implementation"
   ]
  },
  {
   "cell_type": "markdown",
   "id": "e4704cbe",
   "metadata": {},
   "source": [
    "### Function for the Calculation of Eucledian Distance"
   ]
  },
  {
   "cell_type": "code",
   "execution_count": 14,
   "id": "13b559d0",
   "metadata": {},
   "outputs": [],
   "source": [
    "import math\n",
    "def Eucledian_dist(a, b):\n",
    "    sum = 0\n",
    "    for i in range(0, 150):\n",
    "        sum = sum + (a[i] - b[i])*(a[i] - b[i])\n",
    "    return math.sqrt(sum)"
   ]
  },
  {
   "cell_type": "markdown",
   "id": "ce81152f",
   "metadata": {},
   "source": [
    "### Calculation of the KNN using the distance metric as the Eucledian Distance"
   ]
  },
  {
   "cell_type": "code",
   "execution_count": 15,
   "id": "59246d97",
   "metadata": {},
   "outputs": [
    {
     "name": "stdout",
     "output_type": "stream",
     "text": [
      "[27, 26, 28, 20, 55, 100, 74, 95, 78, 13, 19, 42, 94, 26, 98, 2, 6, 86, 42, 45, 54, 23, 3, 37, 22, 23, 15, 93, 49, 99, 52, 23, 107, 0, 90, 4]\n"
     ]
    }
   ],
   "source": [
    "#This is implementation of my Self-Defined Code for the Eucledian Distance based KNN Model model.\n",
    "\n",
    "final = []\n",
    "for i in range(0, len(X_test_arr)):\n",
    "    a= {}\n",
    "    for j in range(0, len(X_arr)):\n",
    "        a[j] = Eucledian_dist(X_test_arr[i], X_arr[j])\n",
    "    final.append(fetch_keys(a, sorted(a.values())[0])[0])  \n",
    "    \n",
    "print(final)              "
   ]
  },
  {
   "cell_type": "code",
   "execution_count": 16,
   "id": "0bdf02dc",
   "metadata": {},
   "outputs": [
    {
     "name": "stdout",
     "output_type": "stream",
     "text": [
      "[27, 26, 28, 20, 55, 100, 74, 95, 78, 13, 19, 42, 94, 26, 98, 2, 6, 86, 42, 45, 54, 23, 3, 37, 22, 23, 15, 93, 49, 99, 52, 23, 107, 0, 90, 4]\n"
     ]
    }
   ],
   "source": [
    "#These are the indexes in the y_train that have the smallest eucledian distance \n",
    "print(final)"
   ]
  },
  {
   "cell_type": "code",
   "execution_count": 17,
   "id": "0c9f95a9",
   "metadata": {},
   "outputs": [
    {
     "name": "stdout",
     "output_type": "stream",
     "text": [
      "[3.0, 2.0, 2.0, 2.0, 3.0, 1.0, 3.0, 2.0, 2.0, 2.0, 3.0, 2.0, 1.0, 2.0, 2.0, 1.0, 3.0, 1.0, 2.0, 3.0, 2.0, 1.0, 1.0, 3.0, 1.0, 1.0, 1.0, 1.0, 1.0, 1.0, 2.0, 1.0, 1.0, 3.0, 3.0, 1.0]\n"
     ]
    }
   ],
   "source": [
    "#Mapping of the class from the indexes of the y_train\n",
    "final_1 = []\n",
    "for i in range(0,len(final)):\n",
    "    final_1.append(y_train[0][final[i]])\n",
    "print(final_1)"
   ]
  },
  {
   "cell_type": "code",
   "execution_count": 18,
   "id": "f621f479",
   "metadata": {},
   "outputs": [
    {
     "data": {
      "text/html": [
       "<div>\n",
       "<style scoped>\n",
       "    .dataframe tbody tr th:only-of-type {\n",
       "        vertical-align: middle;\n",
       "    }\n",
       "\n",
       "    .dataframe tbody tr th {\n",
       "        vertical-align: top;\n",
       "    }\n",
       "\n",
       "    .dataframe thead th {\n",
       "        text-align: right;\n",
       "    }\n",
       "</style>\n",
       "<table border=\"1\" class=\"dataframe\">\n",
       "  <thead>\n",
       "    <tr style=\"text-align: right;\">\n",
       "      <th></th>\n",
       "      <th>Predicted</th>\n",
       "    </tr>\n",
       "  </thead>\n",
       "  <tbody>\n",
       "    <tr>\n",
       "      <th>0</th>\n",
       "      <td>3.0</td>\n",
       "    </tr>\n",
       "    <tr>\n",
       "      <th>1</th>\n",
       "      <td>2.0</td>\n",
       "    </tr>\n",
       "    <tr>\n",
       "      <th>2</th>\n",
       "      <td>2.0</td>\n",
       "    </tr>\n",
       "    <tr>\n",
       "      <th>3</th>\n",
       "      <td>2.0</td>\n",
       "    </tr>\n",
       "    <tr>\n",
       "      <th>4</th>\n",
       "      <td>3.0</td>\n",
       "    </tr>\n",
       "    <tr>\n",
       "      <th>5</th>\n",
       "      <td>1.0</td>\n",
       "    </tr>\n",
       "    <tr>\n",
       "      <th>6</th>\n",
       "      <td>3.0</td>\n",
       "    </tr>\n",
       "    <tr>\n",
       "      <th>7</th>\n",
       "      <td>2.0</td>\n",
       "    </tr>\n",
       "    <tr>\n",
       "      <th>8</th>\n",
       "      <td>2.0</td>\n",
       "    </tr>\n",
       "    <tr>\n",
       "      <th>9</th>\n",
       "      <td>2.0</td>\n",
       "    </tr>\n",
       "    <tr>\n",
       "      <th>10</th>\n",
       "      <td>3.0</td>\n",
       "    </tr>\n",
       "    <tr>\n",
       "      <th>11</th>\n",
       "      <td>2.0</td>\n",
       "    </tr>\n",
       "    <tr>\n",
       "      <th>12</th>\n",
       "      <td>1.0</td>\n",
       "    </tr>\n",
       "    <tr>\n",
       "      <th>13</th>\n",
       "      <td>2.0</td>\n",
       "    </tr>\n",
       "    <tr>\n",
       "      <th>14</th>\n",
       "      <td>2.0</td>\n",
       "    </tr>\n",
       "    <tr>\n",
       "      <th>15</th>\n",
       "      <td>1.0</td>\n",
       "    </tr>\n",
       "    <tr>\n",
       "      <th>16</th>\n",
       "      <td>3.0</td>\n",
       "    </tr>\n",
       "    <tr>\n",
       "      <th>17</th>\n",
       "      <td>1.0</td>\n",
       "    </tr>\n",
       "    <tr>\n",
       "      <th>18</th>\n",
       "      <td>2.0</td>\n",
       "    </tr>\n",
       "    <tr>\n",
       "      <th>19</th>\n",
       "      <td>3.0</td>\n",
       "    </tr>\n",
       "    <tr>\n",
       "      <th>20</th>\n",
       "      <td>2.0</td>\n",
       "    </tr>\n",
       "    <tr>\n",
       "      <th>21</th>\n",
       "      <td>1.0</td>\n",
       "    </tr>\n",
       "    <tr>\n",
       "      <th>22</th>\n",
       "      <td>1.0</td>\n",
       "    </tr>\n",
       "    <tr>\n",
       "      <th>23</th>\n",
       "      <td>3.0</td>\n",
       "    </tr>\n",
       "    <tr>\n",
       "      <th>24</th>\n",
       "      <td>1.0</td>\n",
       "    </tr>\n",
       "    <tr>\n",
       "      <th>25</th>\n",
       "      <td>1.0</td>\n",
       "    </tr>\n",
       "    <tr>\n",
       "      <th>26</th>\n",
       "      <td>1.0</td>\n",
       "    </tr>\n",
       "    <tr>\n",
       "      <th>27</th>\n",
       "      <td>1.0</td>\n",
       "    </tr>\n",
       "    <tr>\n",
       "      <th>28</th>\n",
       "      <td>1.0</td>\n",
       "    </tr>\n",
       "    <tr>\n",
       "      <th>29</th>\n",
       "      <td>1.0</td>\n",
       "    </tr>\n",
       "    <tr>\n",
       "      <th>30</th>\n",
       "      <td>2.0</td>\n",
       "    </tr>\n",
       "    <tr>\n",
       "      <th>31</th>\n",
       "      <td>1.0</td>\n",
       "    </tr>\n",
       "    <tr>\n",
       "      <th>32</th>\n",
       "      <td>1.0</td>\n",
       "    </tr>\n",
       "    <tr>\n",
       "      <th>33</th>\n",
       "      <td>3.0</td>\n",
       "    </tr>\n",
       "    <tr>\n",
       "      <th>34</th>\n",
       "      <td>3.0</td>\n",
       "    </tr>\n",
       "    <tr>\n",
       "      <th>35</th>\n",
       "      <td>1.0</td>\n",
       "    </tr>\n",
       "  </tbody>\n",
       "</table>\n",
       "</div>"
      ],
      "text/plain": [
       "    Predicted\n",
       "0         3.0\n",
       "1         2.0\n",
       "2         2.0\n",
       "3         2.0\n",
       "4         3.0\n",
       "5         1.0\n",
       "6         3.0\n",
       "7         2.0\n",
       "8         2.0\n",
       "9         2.0\n",
       "10        3.0\n",
       "11        2.0\n",
       "12        1.0\n",
       "13        2.0\n",
       "14        2.0\n",
       "15        1.0\n",
       "16        3.0\n",
       "17        1.0\n",
       "18        2.0\n",
       "19        3.0\n",
       "20        2.0\n",
       "21        1.0\n",
       "22        1.0\n",
       "23        3.0\n",
       "24        1.0\n",
       "25        1.0\n",
       "26        1.0\n",
       "27        1.0\n",
       "28        1.0\n",
       "29        1.0\n",
       "30        2.0\n",
       "31        1.0\n",
       "32        1.0\n",
       "33        3.0\n",
       "34        3.0\n",
       "35        1.0"
      ]
     },
     "execution_count": 18,
     "metadata": {},
     "output_type": "execute_result"
    }
   ],
   "source": [
    "#Conversion of the predicted values to a dataframe\n",
    "df3 = pd.DataFrame (final_1, columns = ['Predicted'])\n",
    "df3"
   ]
  },
  {
   "cell_type": "markdown",
   "id": "a07492cd",
   "metadata": {},
   "source": [
    "### Calculation of the Accuracy for the Eucledian Distance Method"
   ]
  },
  {
   "cell_type": "code",
   "execution_count": 19,
   "id": "df540395",
   "metadata": {},
   "outputs": [
    {
     "name": "stdout",
     "output_type": "stream",
     "text": [
      "Accuracy for the Eucledian Distance method is 94.44444444444444 %\n"
     ]
    }
   ],
   "source": [
    "\n",
    "count = 0\n",
    "for i in range(0,len(df3)):\n",
    "    if df3.iloc[i][0] == y_test[0][i]:\n",
    "        count = count+1\n",
    "accuracy_Eucledian = (count/len(df3))*100\n",
    "print ('Accuracy for the Eucledian Distance method is', accuracy_Eucledian, '%')"
   ]
  },
  {
   "cell_type": "markdown",
   "id": "4757244b",
   "metadata": {},
   "source": [
    "### Accuracy comparison for the DTW Model with the Eucledian distance based model "
   ]
  },
  {
   "cell_type": "code",
   "execution_count": 43,
   "id": "5ed5f788",
   "metadata": {},
   "outputs": [
    {
     "name": "stdout",
     "output_type": "stream",
     "text": [
      "Accuracy for the Eucledian Distance based model is --  94.44444444444444 %\n",
      "Best Accuracy for the DTW Distance based model is --  97.22222222222221 %\n"
     ]
    }
   ],
   "source": [
    "print ('Accuracy for the Eucledian Distance based model is -- ', accuracy_Eucledian, '%')\n",
    "print ('Best Accuracy for the DTW Distance based model is -- ', accuracy[5], '%')"
   ]
  },
  {
   "cell_type": "markdown",
   "id": "9deb8678",
   "metadata": {},
   "source": [
    "# TASK 2"
   ]
  },
  {
   "cell_type": "markdown",
   "id": "1fa7a816",
   "metadata": {},
   "source": [
    "### Using the Sklearn Metrics Method to Adapt the DTW Code into the Sklearn KNN Method"
   ]
  },
  {
   "cell_type": "code",
   "execution_count": 32,
   "id": "b1c56fa7",
   "metadata": {},
   "outputs": [],
   "source": [
    "def dtw_1(s, t, window = 5):\n",
    "    n, m = len(s), len(t)\n",
    "    w = np.max([window, abs(n-m)]) # warping cannot be less than the difference in lengths. \n",
    "    dtw_matrix = np.zeros((n+1, m+1))\n",
    "    \n",
    "    for i in range(n+1):\n",
    "        for j in range(m+1):\n",
    "            dtw_matrix[i, j] = np.inf\n",
    "    dtw_matrix[0, 0] = 0\n",
    "    \n",
    "    for i in range(1, n+1):\n",
    "        for j in range(np.max([1, i-w]), np.min([m, i+w])+1):\n",
    "            dtw_matrix[i, j] = 0\n",
    "    \n",
    "    for i in range(1, n+1):\n",
    "        for j in range(np.max([1, i-w]), np.min([m, i+w])+1):\n",
    "            cost = abs(s[i-1] - t[j-1])\n",
    "            # take last min from a square box\n",
    "            last_min = np.min([dtw_matrix[i-1, j], dtw_matrix[i, j-1], dtw_matrix[i-1, j-1]])\n",
    "            dtw_matrix[i, j] = cost + last_min\n",
    "    return dtw_matrix[-1,-1]"
   ]
  },
  {
   "cell_type": "code",
   "execution_count": 33,
   "id": "166fe08f",
   "metadata": {},
   "outputs": [
    {
     "name": "stderr",
     "output_type": "stream",
     "text": [
      "C:\\Users\\Puru\\anaconda3\\lib\\site-packages\\sklearn\\neighbors\\_classification.py:198: DataConversionWarning: A column-vector y was passed when a 1d array was expected. Please change the shape of y to (n_samples,), for example using ravel().\n",
      "  return self._fit(X, y)\n"
     ]
    },
    {
     "data": {
      "text/plain": [
       "KNeighborsClassifier(metric=<function dtw_1 at 0x000001E25E227790>,\n",
       "                     n_neighbors=1)"
      ]
     },
     "execution_count": 33,
     "metadata": {},
     "output_type": "execute_result"
    }
   ],
   "source": [
    "#Implementation of the SKLEARN KNN Method\n",
    "from sklearn.neighbors import KNeighborsClassifier\n",
    "KNN_1 = KNeighborsClassifier(n_neighbors = 1 , metric = dtw_1)\n",
    "KNN_1.fit(X_train,y_train)"
   ]
  },
  {
   "cell_type": "markdown",
   "id": "7a9d1540",
   "metadata": {},
   "source": [
    "### Accuracy Calculation for the Sklearn KNN Classifier"
   ]
  },
  {
   "cell_type": "code",
   "execution_count": 34,
   "id": "c21db77c",
   "metadata": {},
   "outputs": [],
   "source": [
    "#Checking if the SKLEARN Accuracy is consistent with my Function defined KNN Method\n",
    "from sklearn.metrics import accuracy_score\n",
    "predicted_1 = KNN_1.predict(X_test)\n",
    "acc_1 = accuracy_score(y_test, predicted_1)"
   ]
  },
  {
   "cell_type": "code",
   "execution_count": 41,
   "id": "1c9ab472",
   "metadata": {},
   "outputs": [
    {
     "name": "stdout",
     "output_type": "stream",
     "text": [
      "Accuracy for SKLEARN based DTW model for window size 5 is  97.22222222222221 %\n"
     ]
    }
   ],
   "source": [
    "print('Accuracy for SKLEARN based DTW model for window size 5 is ', acc_1*100 , '%')"
   ]
  },
  {
   "cell_type": "code",
   "execution_count": 35,
   "id": "cb6c2ae0",
   "metadata": {},
   "outputs": [
    {
     "data": {
      "text/plain": [
       "array([[16,  0,  0],\n",
       "       [ 0, 10,  0],\n",
       "       [ 0,  1,  9]], dtype=int64)"
      ]
     },
     "execution_count": 35,
     "metadata": {},
     "output_type": "execute_result"
    }
   ],
   "source": [
    "from sklearn import metrics\n",
    "confusion_matrix_1 = metrics.confusion_matrix(y_test, predicted_1)\n",
    "confusion_matrix_1"
   ]
  },
  {
   "cell_type": "markdown",
   "id": "a866a149",
   "metadata": {},
   "source": [
    "### Comparing the Accuracy of the sklearn based DTW Model and Self-Implemeted DTW Model to check the consistency of both the models "
   ]
  },
  {
   "cell_type": "code",
   "execution_count": 38,
   "id": "62061d4a",
   "metadata": {},
   "outputs": [
    {
     "name": "stdout",
     "output_type": "stream",
     "text": [
      "SKLEARN Accuracy for window Size 5 is 97.22222222222221\n",
      "1-NN Self Defined function Acuuracy for window size 5 is 97.22222222222221\n"
     ]
    }
   ],
   "source": [
    "print('SKLEARN Accuracy for window Size 5 is', acc_1*100)\n",
    "print ('1-NN Self Defined function Acuuracy for window size 5 is', accuracy[5])"
   ]
  },
  {
   "cell_type": "markdown",
   "id": "d112bbeb",
   "metadata": {},
   "source": [
    "### Implementation of Eucledian Distance based KNN Model using Sklearn"
   ]
  },
  {
   "cell_type": "code",
   "execution_count": 27,
   "id": "33b6966d",
   "metadata": {},
   "outputs": [
    {
     "name": "stderr",
     "output_type": "stream",
     "text": [
      "C:\\Users\\Puru\\anaconda3\\lib\\site-packages\\sklearn\\neighbors\\_classification.py:198: DataConversionWarning: A column-vector y was passed when a 1d array was expected. Please change the shape of y to (n_samples,), for example using ravel().\n",
      "  return self._fit(X, y)\n"
     ]
    },
    {
     "data": {
      "text/plain": [
       "KNeighborsClassifier(n_neighbors=1)"
      ]
     },
     "execution_count": 27,
     "metadata": {},
     "output_type": "execute_result"
    }
   ],
   "source": [
    "from sklearn.neighbors import KNeighborsClassifier\n",
    "KNN = KNeighborsClassifier(n_neighbors=1)\n",
    "KNN.fit(X_train,y_train)"
   ]
  },
  {
   "cell_type": "markdown",
   "id": "63d947aa",
   "metadata": {},
   "source": [
    "### Predicting the Values for X_test using Sklearn Eucledian based KNN"
   ]
  },
  {
   "cell_type": "code",
   "execution_count": 28,
   "id": "07b4a163",
   "metadata": {},
   "outputs": [],
   "source": [
    "predicted = KNN.predict(X_test)"
   ]
  },
  {
   "cell_type": "markdown",
   "id": "50bb3281",
   "metadata": {},
   "source": [
    "### Calculating the Accuracy Scores for the Sklearn Eucledian Based KNN"
   ]
  },
  {
   "cell_type": "code",
   "execution_count": 29,
   "id": "f5af9de0",
   "metadata": {},
   "outputs": [
    {
     "name": "stdout",
     "output_type": "stream",
     "text": [
      "Accuracy for the Eucledian Distance method using Sklearn Class is also 94.44444444444444 %\n"
     ]
    }
   ],
   "source": [
    "acc = accuracy_score(y_test, predicted)\n",
    "print ('Accuracy for the Eucledian Distance method using Sklearn Class is also', acc*100, '%')"
   ]
  },
  {
   "cell_type": "code",
   "execution_count": 30,
   "id": "2188357d",
   "metadata": {},
   "outputs": [
    {
     "data": {
      "text/plain": [
       "array([[15,  1,  0],\n",
       "       [ 0, 10,  0],\n",
       "       [ 0,  1,  9]], dtype=int64)"
      ]
     },
     "execution_count": 30,
     "metadata": {},
     "output_type": "execute_result"
    }
   ],
   "source": [
    "#Printing out the Confusion matrix for the Eucledian distance method\n",
    "confusion_matrix = metrics.confusion_matrix(y_test, predicted)\n",
    "confusion_matrix"
   ]
  },
  {
   "cell_type": "markdown",
   "id": "1b8676da",
   "metadata": {},
   "source": [
    "### Comparing the self-implemented Eucledian based model with Sklearn based Eucledian distance model"
   ]
  },
  {
   "cell_type": "code",
   "execution_count": 31,
   "id": "73a58a0c",
   "metadata": {},
   "outputs": [
    {
     "name": "stdout",
     "output_type": "stream",
     "text": [
      "Accuracy for the Eucledian Distance method using Sklearn Class is also 94.44444444444444 %\n",
      "Accuracy for the Self-Implemented 1-NN Eucledian Distance based KNN method is 94.44444444444444 %\n"
     ]
    }
   ],
   "source": [
    "print ('Accuracy for the Eucledian Distance method using Sklearn Class is also', acc*100, '%')\n",
    "print ('Accuracy for the Self-Implemented 1-NN Eucledian Distance based KNN method is', accuracy_Eucledian, '%')"
   ]
  },
  {
   "cell_type": "markdown",
   "id": "40c2cfe0",
   "metadata": {},
   "source": [
    "# Findings and Conclusion:\n",
    "\n",
    "## 1. First I implemented my simple 1-NN Classifier Model and found out that the accuracy of the Model was 97.2 % for the best window size of 5\n",
    "\n",
    "## 2. The Accuracy increased with the increase in the Window size, However it dropped back again after the window size 6  .\n",
    "\n",
    "## 3. The Computation time increased with the Increase in Window size as the CPU had to perform more computation with the increased window size for the DTW based Classifier in order to find out the best neigbour.\n",
    "\n",
    "## 4. Eucledian distance simply calculates the Eucledian distance between the 2 Arrays passed as Input, Unlike the DTW Classifier the computation time was lesser as compared to the DTW based model as the CPU did not had to go through checking of many to one data points in order to find out the best fit, It just computed the distance directly with the corresponding Time series column, However in this model we had to compromise a little bit with the Accuracy of the Model as for the Eucledian Distance based model the Accuracy dropped out to be 94.4 %\n",
    "\n",
    "## 5. I also Checked the consistency of my code for my self-Implemented KNN Classifier and the sklearn based KNN Classifier and found out that the Accuracy of my model was consistent with that of the sklearn based models for both the DTW and the Eucledian Distance based models signfying that the piece of code written by me was correct.\n",
    "\n",
    "## 6. The Window size is not some constant parameter for the particular dataset, It keeps on changing with the different test train splits and hence needs to be computed for each test train split.\n",
    "\n",
    "## DTW version of the KNN method is holds advantage over the Eucledian distance as in Eucledian distance model we can only make one to one comparisons while classifying the data, However in DTW we can make many to one comparisons of the data points, DTW checks many data points as per the Window size and then finds the best possible Alignment, making it a more suitable algorithm while working with data like time-series, Speech data etc"
   ]
  }
 ],
 "metadata": {
  "kernelspec": {
   "display_name": "Python 3 (ipykernel)",
   "language": "python",
   "name": "python3"
  },
  "language_info": {
   "codemirror_mode": {
    "name": "ipython",
    "version": 3
   },
   "file_extension": ".py",
   "mimetype": "text/x-python",
   "name": "python",
   "nbconvert_exporter": "python",
   "pygments_lexer": "ipython3",
   "version": "3.9.12"
  }
 },
 "nbformat": 4,
 "nbformat_minor": 5
}
